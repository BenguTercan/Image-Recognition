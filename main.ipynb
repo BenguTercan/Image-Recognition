{
 "cells": [
  {
   "cell_type": "markdown",
   "metadata": {},
   "source": [
    "# Importing The Libraries"
   ]
  },
  {
   "cell_type": "code",
   "execution_count": 2,
   "metadata": {
    "id": "NFliPYW3amtF"
   },
   "outputs": [
    {
     "data": {
      "text/plain": [
       "'2.4.0'"
      ]
     },
     "execution_count": 2,
     "metadata": {},
     "output_type": "execute_result"
    }
   ],
   "source": [
    "import tensorflow as tf\n",
    "from keras.preprocessing.image import ImageDataGenerator\n",
    "\n",
    "tf.__version__\n"
   ]
  },
  {
   "cell_type": "markdown",
   "metadata": {},
   "source": [
    "##  Part 1 - Data Preprocessing"
   ]
  },
  {
   "cell_type": "markdown",
   "metadata": {},
   "source": [
    "### Preprocessing the Training set"
   ]
  },
  {
   "cell_type": "code",
   "execution_count": 3,
   "metadata": {
    "id": "To7CPOOBavcf"
   },
   "outputs": [
    {
     "name": "stdout",
     "output_type": "stream",
     "text": [
      "Found 102 images belonging to 3 classes.\n"
     ]
    }
   ],
   "source": [
    "train_datagen = ImageDataGenerator(\trescale = 1./255,\n",
    "\tshear_range = 0.2,\n",
    "\tzoom_range = 0.2,\n",
    "\thorizontal_flip = True)\n",
    "training_set = train_datagen.flow_from_directory('data/train',\n",
    "\ttarget_size =(64,64),\n",
    "\tbatch_size = 10,\n",
    "\tclass_mode ='categorical')"
   ]
  },
  {
   "cell_type": "markdown",
   "metadata": {},
   "source": [
    "### Preprocessing the Test set"
   ]
  },
  {
   "cell_type": "code",
   "execution_count": 4,
   "metadata": {
    "id": "xUPJ52qvbBRk"
   },
   "outputs": [
    {
     "name": "stdout",
     "output_type": "stream",
     "text": [
      "Found 24 images belonging to 3 classes.\n"
     ]
    }
   ],
   "source": [
    "test_datagen = ImageDataGenerator(rescale = 1./255)\n",
    "test_set = test_datagen.flow_from_directory(\t'data/test',\n",
    "\ttarget_size =(64,64),\n",
    "\tbatch_size = 10,\n",
    "\tclass_mode='categorical')"
   ]
  },
  {
   "cell_type": "markdown",
   "metadata": {},
   "source": [
    "## Part 2 - Building the CNN"
   ]
  },
  {
   "cell_type": "markdown",
   "metadata": {},
   "source": [
    "### Initialising the CNN"
   ]
  },
  {
   "cell_type": "code",
   "execution_count": 5,
   "metadata": {
    "id": "RwZ0iRaHbIFi"
   },
   "outputs": [],
   "source": [
    "cnn = tf.keras.models.Sequential()"
   ]
  },
  {
   "cell_type": "markdown",
   "metadata": {},
   "source": [
    "### Step 1 - Convolution"
   ]
  },
  {
   "cell_type": "code",
   "execution_count": 6,
   "metadata": {
    "scrolled": true
   },
   "outputs": [],
   "source": [
    "cnn.add(tf.keras.layers.Conv2D(32,3,activation='relu',input_shape=[64,64,3]))"
   ]
  },
  {
   "cell_type": "markdown",
   "metadata": {},
   "source": [
    "### Step 2 - Pooling"
   ]
  },
  {
   "cell_type": "code",
   "execution_count": 7,
   "metadata": {
    "id": "Z9nsAIThbQoO"
   },
   "outputs": [],
   "source": [
    "cnn.add(tf.keras.layers.MaxPool2D(pool_size=2,strides=2))"
   ]
  },
  {
   "cell_type": "markdown",
   "metadata": {},
   "source": [
    "#### Adding a second convolutional layer"
   ]
  },
  {
   "cell_type": "code",
   "execution_count": 8,
   "metadata": {
    "id": "IqycG_-6bSq_"
   },
   "outputs": [],
   "source": [
    "cnn.add(tf.keras.layers.Conv2D(64,3,activation='relu'))\n",
    "cnn.add(tf.keras.layers.MaxPool2D(pool_size=2,strides=2))"
   ]
  },
  {
   "cell_type": "markdown",
   "metadata": {},
   "source": [
    "#### Adding a third convolutional layer"
   ]
  },
  {
   "cell_type": "code",
   "execution_count": 9,
   "metadata": {},
   "outputs": [],
   "source": [
    "cnn.add(tf.keras.layers.Conv2D(128,3,activation='relu'))\n",
    "cnn.add(tf.keras.layers.MaxPool2D(pool_size=2,strides=2))"
   ]
  },
  {
   "cell_type": "markdown",
   "metadata": {},
   "source": [
    "#### Adding a fourth convolutional layer"
   ]
  },
  {
   "cell_type": "code",
   "execution_count": 10,
   "metadata": {},
   "outputs": [],
   "source": [
    "cnn.add(tf.keras.layers.Conv2D(256,3,activation='relu'))\n",
    "cnn.add(tf.keras.layers.MaxPool2D(pool_size=2,strides=2))"
   ]
  },
  {
   "cell_type": "markdown",
   "metadata": {},
   "source": [
    "### Step 3 - Flattening"
   ]
  },
  {
   "cell_type": "code",
   "execution_count": 11,
   "metadata": {
    "id": "3wsrC2uZbW9d"
   },
   "outputs": [],
   "source": [
    "cnn.add(tf.keras.layers.Flatten())"
   ]
  },
  {
   "cell_type": "markdown",
   "metadata": {},
   "source": [
    "### Step 4 - Full Connection"
   ]
  },
  {
   "cell_type": "code",
   "execution_count": 12,
   "metadata": {
    "id": "d0lRfmLJbaNO"
   },
   "outputs": [],
   "source": [
    "cnn.add(tf.keras.layers.Dense(units=128,activation='relu'))"
   ]
  },
  {
   "cell_type": "markdown",
   "metadata": {},
   "source": [
    "### Step 5 - Output Layer"
   ]
  },
  {
   "cell_type": "code",
   "execution_count": 13,
   "metadata": {
    "id": "EhaIg4lDbb71"
   },
   "outputs": [],
   "source": [
    "cnn.add(tf.keras.layers.Dense(units=3,activation='softmax'))"
   ]
  },
  {
   "cell_type": "markdown",
   "metadata": {},
   "source": [
    "## Part 3 - Training the CNN "
   ]
  },
  {
   "cell_type": "markdown",
   "metadata": {},
   "source": [
    "### Compiling the CNN"
   ]
  },
  {
   "cell_type": "code",
   "execution_count": 14,
   "metadata": {
    "id": "GIMDX0_sbgRJ"
   },
   "outputs": [],
   "source": [
    "cnn.compile(optimizer ='adam',loss='categorical_crossentropy',\tmetrics=['accuracy'])\n"
   ]
  },
  {
   "cell_type": "markdown",
   "metadata": {},
   "source": [
    "### Training the CNN on the Training set and evaluating it on the Test set"
   ]
  },
  {
   "cell_type": "code",
   "execution_count": 15,
   "metadata": {},
   "outputs": [],
   "source": [
    "epochs =83"
   ]
  },
  {
   "cell_type": "code",
   "execution_count": 16,
   "metadata": {
    "id": "uxuG1739bo5D",
    "scrolled": true
   },
   "outputs": [
    {
     "name": "stdout",
     "output_type": "stream",
     "text": [
      "Epoch 1/83\n",
      "11/11 [==============================] - 7s 534ms/step - loss: 1.1307 - accuracy: 0.3266 - val_loss: 1.0647 - val_accuracy: 0.4167\n",
      "Epoch 2/83\n",
      "11/11 [==============================] - 4s 385ms/step - loss: 1.0783 - accuracy: 0.4208 - val_loss: 1.0550 - val_accuracy: 0.4167\n",
      "Epoch 3/83\n",
      "11/11 [==============================] - 4s 370ms/step - loss: 1.0934 - accuracy: 0.3150 - val_loss: 1.0127 - val_accuracy: 0.4167\n",
      "Epoch 4/83\n",
      "11/11 [==============================] - 4s 373ms/step - loss: 1.0894 - accuracy: 0.3592 - val_loss: 1.0781 - val_accuracy: 0.4167\n",
      "Epoch 5/83\n",
      "11/11 [==============================] - 4s 365ms/step - loss: 1.0971 - accuracy: 0.3079 - val_loss: 1.0885 - val_accuracy: 0.4167\n",
      "Epoch 6/83\n",
      "11/11 [==============================] - 4s 365ms/step - loss: 1.0937 - accuracy: 0.5053 - val_loss: 1.0599 - val_accuracy: 0.4167\n",
      "Epoch 7/83\n",
      "11/11 [==============================] - 4s 394ms/step - loss: 1.0923 - accuracy: 0.3670 - val_loss: 0.9970 - val_accuracy: 0.4167\n",
      "Epoch 8/83\n",
      "11/11 [==============================] - 4s 364ms/step - loss: 1.1016 - accuracy: 0.3371 - val_loss: 0.8547 - val_accuracy: 0.4167\n",
      "Epoch 9/83\n",
      "11/11 [==============================] - 4s 369ms/step - loss: 1.0884 - accuracy: 0.3134 - val_loss: 0.9496 - val_accuracy: 0.7083\n",
      "Epoch 10/83\n",
      "11/11 [==============================] - 4s 393ms/step - loss: 1.0245 - accuracy: 0.5545 - val_loss: 0.7979 - val_accuracy: 0.4167\n",
      "Epoch 11/83\n",
      "11/11 [==============================] - 4s 369ms/step - loss: 0.9558 - accuracy: 0.4452 - val_loss: 0.8222 - val_accuracy: 0.5417\n",
      "Epoch 12/83\n",
      "11/11 [==============================] - 4s 377ms/step - loss: 0.8951 - accuracy: 0.5412 - val_loss: 0.7035 - val_accuracy: 0.5833\n",
      "Epoch 13/83\n",
      "11/11 [==============================] - 4s 376ms/step - loss: 0.8865 - accuracy: 0.5463 - val_loss: 0.8539 - val_accuracy: 0.6250\n",
      "Epoch 14/83\n",
      "11/11 [==============================] - 4s 361ms/step - loss: 0.8877 - accuracy: 0.4980 - val_loss: 0.6805 - val_accuracy: 0.7083\n",
      "Epoch 15/83\n",
      "11/11 [==============================] - 4s 376ms/step - loss: 0.7131 - accuracy: 0.6226 - val_loss: 0.6251 - val_accuracy: 0.7917\n",
      "Epoch 16/83\n",
      "11/11 [==============================] - 4s 367ms/step - loss: 0.8027 - accuracy: 0.6317 - val_loss: 0.6190 - val_accuracy: 0.6667\n",
      "Epoch 17/83\n",
      "11/11 [==============================] - 4s 362ms/step - loss: 0.7233 - accuracy: 0.6246 - val_loss: 0.4917 - val_accuracy: 0.8333\n",
      "Epoch 18/83\n",
      "11/11 [==============================] - 4s 367ms/step - loss: 0.5956 - accuracy: 0.8043 - val_loss: 0.5715 - val_accuracy: 0.7083\n",
      "Epoch 19/83\n",
      "11/11 [==============================] - 4s 378ms/step - loss: 0.6492 - accuracy: 0.7376 - val_loss: 0.5548 - val_accuracy: 0.7917\n",
      "Epoch 20/83\n",
      "11/11 [==============================] - 4s 391ms/step - loss: 0.5693 - accuracy: 0.7052 - val_loss: 0.5595 - val_accuracy: 0.8333\n",
      "Epoch 21/83\n",
      "11/11 [==============================] - 4s 370ms/step - loss: 0.4135 - accuracy: 0.8231 - val_loss: 0.8601 - val_accuracy: 0.7083\n",
      "Epoch 22/83\n",
      "11/11 [==============================] - 4s 374ms/step - loss: 0.6759 - accuracy: 0.7207 - val_loss: 0.5707 - val_accuracy: 0.7083\n",
      "Epoch 23/83\n",
      "11/11 [==============================] - 4s 366ms/step - loss: 0.5919 - accuracy: 0.7668 - val_loss: 0.4058 - val_accuracy: 0.7917\n",
      "Epoch 24/83\n",
      "11/11 [==============================] - 4s 374ms/step - loss: 0.5460 - accuracy: 0.7556 - val_loss: 0.3483 - val_accuracy: 0.8750\n",
      "Epoch 25/83\n",
      "11/11 [==============================] - 4s 392ms/step - loss: 0.3646 - accuracy: 0.8323 - val_loss: 0.4277 - val_accuracy: 0.8750\n",
      "Epoch 26/83\n",
      "11/11 [==============================] - 5s 429ms/step - loss: 0.3724 - accuracy: 0.8354 - val_loss: 0.5051 - val_accuracy: 0.7917\n",
      "Epoch 27/83\n",
      "11/11 [==============================] - 4s 374ms/step - loss: 0.4037 - accuracy: 0.8493 - val_loss: 0.2901 - val_accuracy: 0.9167\n",
      "Epoch 28/83\n",
      "11/11 [==============================] - 4s 375ms/step - loss: 0.3582 - accuracy: 0.8578 - val_loss: 0.3586 - val_accuracy: 0.8333\n",
      "Epoch 29/83\n",
      "11/11 [==============================] - 4s 369ms/step - loss: 0.2382 - accuracy: 0.8937 - val_loss: 0.2881 - val_accuracy: 0.8750\n",
      "Epoch 30/83\n",
      "11/11 [==============================] - 4s 396ms/step - loss: 0.3093 - accuracy: 0.8423 - val_loss: 0.2632 - val_accuracy: 0.9167\n",
      "Epoch 31/83\n",
      "11/11 [==============================] - 4s 384ms/step - loss: 0.2464 - accuracy: 0.8909 - val_loss: 0.2848 - val_accuracy: 0.8333\n",
      "Epoch 32/83\n",
      "11/11 [==============================] - 4s 367ms/step - loss: 0.2103 - accuracy: 0.9145 - val_loss: 0.2126 - val_accuracy: 0.9167\n",
      "Epoch 33/83\n",
      "11/11 [==============================] - 4s 369ms/step - loss: 0.1877 - accuracy: 0.9093 - val_loss: 0.2806 - val_accuracy: 0.9167\n",
      "Epoch 34/83\n",
      "11/11 [==============================] - 4s 355ms/step - loss: 0.1602 - accuracy: 0.9460 - val_loss: 0.0999 - val_accuracy: 0.9167\n",
      "Epoch 35/83\n",
      "11/11 [==============================] - 4s 400ms/step - loss: 0.1548 - accuracy: 0.9504 - val_loss: 0.3087 - val_accuracy: 0.8750\n",
      "Epoch 36/83\n",
      "11/11 [==============================] - 4s 377ms/step - loss: 0.1228 - accuracy: 0.9627 - val_loss: 0.1995 - val_accuracy: 0.9167\n",
      "Epoch 37/83\n",
      "11/11 [==============================] - 4s 370ms/step - loss: 0.1253 - accuracy: 0.9695 - val_loss: 0.0304 - val_accuracy: 1.0000\n",
      "Epoch 38/83\n",
      "11/11 [==============================] - 4s 368ms/step - loss: 0.0805 - accuracy: 0.9821 - val_loss: 0.0421 - val_accuracy: 1.0000\n",
      "Epoch 39/83\n",
      "11/11 [==============================] - 4s 394ms/step - loss: 0.1113 - accuracy: 0.9536 - val_loss: 0.0403 - val_accuracy: 1.0000\n",
      "Epoch 40/83\n",
      "11/11 [==============================] - 4s 363ms/step - loss: 0.0593 - accuracy: 0.9795 - val_loss: 0.2662 - val_accuracy: 0.9167\n",
      "Epoch 41/83\n",
      "11/11 [==============================] - 4s 363ms/step - loss: 0.1941 - accuracy: 0.9371 - val_loss: 0.1888 - val_accuracy: 0.9167\n",
      "Epoch 42/83\n",
      "11/11 [==============================] - 4s 367ms/step - loss: 0.4057 - accuracy: 0.8103 - val_loss: 0.0395 - val_accuracy: 1.0000\n",
      "Epoch 43/83\n",
      "11/11 [==============================] - 4s 364ms/step - loss: 0.3288 - accuracy: 0.8778 - val_loss: 0.0551 - val_accuracy: 0.9583\n",
      "Epoch 44/83\n",
      "11/11 [==============================] - 4s 373ms/step - loss: 0.1350 - accuracy: 0.9654 - val_loss: 0.3582 - val_accuracy: 0.8750\n",
      "Epoch 45/83\n",
      "11/11 [==============================] - 4s 401ms/step - loss: 0.1374 - accuracy: 0.9487 - val_loss: 0.0610 - val_accuracy: 0.9583\n",
      "Epoch 46/83\n",
      "11/11 [==============================] - 4s 371ms/step - loss: 0.1598 - accuracy: 0.9122 - val_loss: 0.0579 - val_accuracy: 1.0000\n",
      "Epoch 47/83\n",
      "11/11 [==============================] - 4s 378ms/step - loss: 0.0942 - accuracy: 0.9840 - val_loss: 0.0288 - val_accuracy: 1.0000\n",
      "Epoch 48/83\n",
      "11/11 [==============================] - 4s 370ms/step - loss: 0.1484 - accuracy: 0.9553 - val_loss: 0.1585 - val_accuracy: 0.9583\n",
      "Epoch 49/83\n",
      "11/11 [==============================] - 4s 374ms/step - loss: 0.1671 - accuracy: 0.9081 - val_loss: 0.0349 - val_accuracy: 1.0000\n",
      "Epoch 50/83\n",
      "11/11 [==============================] - 4s 375ms/step - loss: 0.0651 - accuracy: 0.9876 - val_loss: 0.0089 - val_accuracy: 1.0000\n",
      "Epoch 51/83\n",
      "11/11 [==============================] - 4s 403ms/step - loss: 0.0558 - accuracy: 0.9795 - val_loss: 0.0180 - val_accuracy: 1.0000\n",
      "Epoch 52/83\n",
      "11/11 [==============================] - 4s 378ms/step - loss: 0.1479 - accuracy: 0.9516 - val_loss: 0.0337 - val_accuracy: 1.0000\n",
      "Epoch 53/83\n",
      "11/11 [==============================] - 4s 386ms/step - loss: 0.0696 - accuracy: 0.9793 - val_loss: 0.0259 - val_accuracy: 1.0000\n",
      "Epoch 54/83\n",
      "11/11 [==============================] - 4s 365ms/step - loss: 0.0457 - accuracy: 0.9679 - val_loss: 0.1075 - val_accuracy: 0.9583\n",
      "Epoch 55/83\n",
      "11/11 [==============================] - 4s 379ms/step - loss: 0.2663 - accuracy: 0.9217 - val_loss: 0.1740 - val_accuracy: 0.9167\n",
      "Epoch 56/83\n",
      "11/11 [==============================] - 4s 381ms/step - loss: 0.4506 - accuracy: 0.8508 - val_loss: 0.0525 - val_accuracy: 1.0000\n",
      "Epoch 57/83\n",
      "11/11 [==============================] - 4s 367ms/step - loss: 0.1493 - accuracy: 0.9455 - val_loss: 0.0198 - val_accuracy: 1.0000\n",
      "Epoch 58/83\n"
     ]
    },
    {
     "name": "stdout",
     "output_type": "stream",
     "text": [
      "11/11 [==============================] - 4s 368ms/step - loss: 0.2402 - accuracy: 0.9278 - val_loss: 0.0456 - val_accuracy: 1.0000\n",
      "Epoch 59/83\n",
      "11/11 [==============================] - 5s 424ms/step - loss: 0.0816 - accuracy: 0.9587 - val_loss: 0.0187 - val_accuracy: 1.0000\n",
      "Epoch 60/83\n",
      "11/11 [==============================] - 4s 357ms/step - loss: 0.0944 - accuracy: 0.9609 - val_loss: 0.0088 - val_accuracy: 1.0000\n",
      "Epoch 61/83\n",
      "11/11 [==============================] - 4s 385ms/step - loss: 0.0565 - accuracy: 0.9781 - val_loss: 0.0157 - val_accuracy: 1.0000\n",
      "Epoch 62/83\n",
      "11/11 [==============================] - 4s 372ms/step - loss: 0.0318 - accuracy: 0.9929 - val_loss: 0.0063 - val_accuracy: 1.0000\n",
      "Epoch 63/83\n",
      "11/11 [==============================] - 4s 378ms/step - loss: 0.0191 - accuracy: 0.9964 - val_loss: 0.0063 - val_accuracy: 1.0000\n",
      "Epoch 64/83\n",
      "11/11 [==============================] - 4s 376ms/step - loss: 0.0109 - accuracy: 1.0000 - val_loss: 0.0037 - val_accuracy: 1.0000\n",
      "Epoch 65/83\n",
      "11/11 [==============================] - 4s 371ms/step - loss: 0.0047 - accuracy: 1.0000 - val_loss: 0.0013 - val_accuracy: 1.0000\n",
      "Epoch 66/83\n",
      "11/11 [==============================] - 4s 386ms/step - loss: 0.0178 - accuracy: 0.9923 - val_loss: 0.0012 - val_accuracy: 1.0000\n",
      "Epoch 67/83\n",
      "11/11 [==============================] - 4s 368ms/step - loss: 0.0193 - accuracy: 1.0000 - val_loss: 0.0094 - val_accuracy: 1.0000\n",
      "Epoch 68/83\n",
      "11/11 [==============================] - 4s 369ms/step - loss: 0.0226 - accuracy: 1.0000 - val_loss: 0.0017 - val_accuracy: 1.0000\n",
      "Epoch 69/83\n",
      "11/11 [==============================] - 4s 393ms/step - loss: 0.0060 - accuracy: 1.0000 - val_loss: 6.9385e-04 - val_accuracy: 1.0000\n",
      "Epoch 70/83\n",
      "11/11 [==============================] - 4s 366ms/step - loss: 0.0218 - accuracy: 0.9808 - val_loss: 0.0023 - val_accuracy: 1.0000\n",
      "Epoch 71/83\n",
      "11/11 [==============================] - 4s 366ms/step - loss: 0.0082 - accuracy: 1.0000 - val_loss: 0.0017 - val_accuracy: 1.0000\n",
      "Epoch 72/83\n",
      "11/11 [==============================] - 4s 371ms/step - loss: 0.0059 - accuracy: 1.0000 - val_loss: 0.0424 - val_accuracy: 0.9583\n",
      "Epoch 73/83\n",
      "11/11 [==============================] - 4s 382ms/step - loss: 0.0198 - accuracy: 1.0000 - val_loss: 7.6540e-04 - val_accuracy: 1.0000\n",
      "Epoch 74/83\n",
      "11/11 [==============================] - 4s 374ms/step - loss: 0.0033 - accuracy: 1.0000 - val_loss: 1.5597e-04 - val_accuracy: 1.0000\n",
      "Epoch 75/83\n",
      "11/11 [==============================] - 4s 370ms/step - loss: 0.0015 - accuracy: 1.0000 - val_loss: 1.6481e-04 - val_accuracy: 1.0000\n",
      "Epoch 76/83\n",
      "11/11 [==============================] - 4s 366ms/step - loss: 0.0041 - accuracy: 1.0000 - val_loss: 6.3922e-04 - val_accuracy: 1.0000\n",
      "Epoch 77/83\n",
      "11/11 [==============================] - 4s 384ms/step - loss: 5.9217e-04 - accuracy: 1.0000 - val_loss: 0.0014 - val_accuracy: 1.0000\n",
      "Epoch 78/83\n",
      "11/11 [==============================] - 4s 400ms/step - loss: 0.0022 - accuracy: 1.0000 - val_loss: 4.1177e-04 - val_accuracy: 1.0000\n",
      "Epoch 79/83\n",
      "11/11 [==============================] - 4s 381ms/step - loss: 5.9528e-04 - accuracy: 1.0000 - val_loss: 8.2714e-05 - val_accuracy: 1.0000\n",
      "Epoch 80/83\n",
      "11/11 [==============================] - 4s 386ms/step - loss: 7.9564e-04 - accuracy: 1.0000 - val_loss: 8.0896e-05 - val_accuracy: 1.0000\n",
      "Epoch 81/83\n",
      "11/11 [==============================] - 4s 378ms/step - loss: 0.0021 - accuracy: 1.0000 - val_loss: 4.7971e-05 - val_accuracy: 1.0000\n",
      "Epoch 82/83\n",
      "11/11 [==============================] - 4s 369ms/step - loss: 0.0012 - accuracy: 1.0000 - val_loss: 4.9316e-05 - val_accuracy: 1.0000\n",
      "Epoch 83/83\n",
      "11/11 [==============================] - 4s 372ms/step - loss: 0.0041 - accuracy: 1.0000 - val_loss: 3.9449e-04 - val_accuracy: 1.0000\n"
     ]
    }
   ],
   "source": [
    "history = cnn.fit(x=training_set,validation_data=test_set,epochs=epochs )"
   ]
  },
  {
   "cell_type": "markdown",
   "metadata": {},
   "source": [
    "## Part 4 - Adding Graphs of Accuracy and Loss"
   ]
  },
  {
   "cell_type": "code",
   "execution_count": 17,
   "metadata": {},
   "outputs": [
    {
     "data": {
      "image/png": "[encoded data removed]",
      "text/plain": [
       "<Figure size 576x576 with 2 Axes>"
      ]
     },
     "metadata": {
      "needs_background": "light"
     },
     "output_type": "display_data"
    }
   ],
   "source": [
    "import matplotlib.pyplot as plt\n",
    "\n",
    "\n",
    "acc = history.history['accuracy']\n",
    "val_acc = history.history['val_accuracy']\n",
    "\n",
    "loss = history.history['loss']\n",
    "val_loss = history.history['val_loss']\n",
    "\n",
    "epochs_range = range(epochs)\n",
    "\n",
    "plt.figure(figsize=(8, 8))\n",
    "plt.subplot(1, 2, 1)\n",
    "plt.plot(epochs_range, acc, label='Training Accuracy')\n",
    "plt.plot(epochs_range, val_acc, label='Test Accuracy')\n",
    "plt.legend(loc='lower right')\n",
    "plt.title('Training and Test Accuracy')\n",
    "\n",
    "plt.subplot(1, 2, 2)\n",
    "plt.plot(epochs_range, loss, label='Training Loss')\n",
    "plt.plot(epochs_range, val_loss, label='Test Loss')\n",
    "plt.legend(loc='upper right')\n",
    "plt.title('Training and Test Loss')\n",
    "plt.show()"
   ]
  },
  {
   "cell_type": "markdown",
   "metadata": {},
   "source": [
    "## Part 5 - Making  Predictions with Tkinter GUI"
   ]
  },
  {
   "cell_type": "code",
   "execution_count": 18,
   "metadata": {
    "id": "CnbXR0t6brEY"
   },
   "outputs": [
    {
     "name": "stdout",
     "output_type": "stream",
     "text": [
      "2\n",
      "[[0. 0. 1.]]\n",
      "0\n",
      "[[1. 0. 0.]]\n",
      "1\n",
      "[[0. 1. 0.]]\n"
     ]
    }
   ],
   "source": [
    "import numpy as np\n",
    "from keras.preprocessing import image   \n",
    "from tkinter import *\n",
    "from tkinter import filedialog\n",
    "import os\n",
    "import tkinter as tk\n",
    "from PIL import Image, ImageTk \n",
    "\n",
    "global imgs\n",
    "global label_cong2\n",
    "\n",
    "def showimage():\n",
    "    fln = filedialog.askopenfilename(initialdir=os.getcwd(),title=\"Select Image File\",filetypes=((\"JPEG File\",\"*.jpeg\"),(\"JPG File\",\"*.jpg\"),(\"PNG File\",\"*.png\"),(\"All Files\",\"*.*\")))\n",
    "    imgs = Image.open(fln)\n",
    "    imgs.thumbnail((350,350))\n",
    "    imgs = ImageTk.PhotoImage(image=imgs,size=(64,64))\n",
    "    lbl.configure(image=imgs)\n",
    "    lbl.image = imgs\n",
    "    test_image = image.load_img(fln, target_size = (64, 64))\n",
    "    test_image = image.img_to_array(test_image)\n",
    "    test_image = np.expand_dims(test_image, axis = 0)\n",
    "    result = cnn.predict(test_image)\n",
    "    print(np.argmax(result))\n",
    "    training_set.class_indices\n",
    "    if result[0][0] > 0.5:\n",
    "        prediction = 'Bengu'\n",
    "        record = 'No criminal record'\n",
    "        print(result)\n",
    "    elif result[0][1] > 0.5:\n",
    "        prediction = 'Irmak'\n",
    "        record = 'No criminal record'\n",
    "        print(result)\n",
    "    elif result[0][2] > 0.5:\n",
    "        prediction = 'Yusuf'\n",
    "        record = 'No criminal record'\n",
    "        print(result)\n",
    "        \n",
    "    result_text = \"Prediction: \" + str(prediction) + '\\n' + str(record)\n",
    "    text_var.set(result_text)\n",
    "    \n",
    "\n",
    "def closewindow():\n",
    "    root.destroy()\n",
    "    \n",
    "\n",
    "root=Tk()\n",
    "\n",
    "frm=Frame(root)\n",
    "frm.pack(side=BOTTOM, padx=15, pady=15)\n",
    "\n",
    "lbl = Label(root)\n",
    "lbl.pack()\n",
    "\n",
    "btn = Button(frm, text=\"Browse Image\",command=showimage)\n",
    "btn.pack(side=tk.LEFT)\n",
    "text_var = StringVar()\n",
    "text_var.set(\"WELCOME\")\n",
    "label_cong2 = Label ( root , anchor = CENTER , textvariable = text_var, bg = 'gray80' , fg = 'gray20' ,\n",
    "           font = ( \"Helvetica\" , 16  ,\"bold\" ) )\n",
    "label_cong2.pack ( expand = 1 , ipadx = \"15\" , ipady =\"12\" )\n",
    "\n",
    "\n",
    "btn2 = Button(frm, text=\"Exit\",command=closewindow)\n",
    "btn2.pack(side=tk.LEFT, padx=10)\n",
    "\n",
    "root.title(\"Image Browser\")\n",
    "root.geometry(\"700x550\")\n",
    "root.mainloop()\n",
    "\n",
    "\n",
    "\n",
    "\n",
    " \n",
    "\n"
   ]
  },
  {
   "cell_type": "code",
   "execution_count": null,
   "metadata": {},
   "outputs": [],
   "source": []
  }
 ],
 "metadata": {
  "colab": {
   "collapsed_sections": [],
   "name": "ybi.ipynb",
   "provenance": []
  },
  "kernelspec": {
   "display_name": "Python 3",
   "language": "python",
   "name": "python3"
  },
  "language_info": {
   "codemirror_mode": {
    "name": "ipython",
    "version": 3
   },
   "file_extension": ".py",
   "mimetype": "text/x-python",
   "name": "python",
   "nbconvert_exporter": "python",
   "pygments_lexer": "ipython3",
   "version": "3.8.5"
  }
 },
 "nbformat": 4,
 "nbformat_minor": 1
}
